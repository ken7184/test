{
 "cells": [
  {
   "cell_type": "markdown",
   "id": "718ea0a4",
   "metadata": {},
   "source": [
    "# 1. Basic Data Types and Operations:\n",
    "   • Write a program to swap two variables.\n",
    "   \n",
    "   • Create a program to calculate the area of a triangle given its base and height."
   ]
  },
  {
   "cell_type": "code",
   "execution_count": 4,
   "id": "0135beff",
   "metadata": {},
   "outputs": [
    {
     "data": {
      "text/plain": [
       "(5, 3)"
      ]
     },
     "execution_count": 4,
     "metadata": {},
     "output_type": "execute_result"
    }
   ],
   "source": [
    "# swap two variables\n",
    "def swap(a, b):\n",
    "    tmp = a\n",
    "    a = b\n",
    "    b = tmp\n",
    "    return a, b\n",
    "swap(3, 5)\n",
    "\n"
   ]
  },
  {
   "cell_type": "code",
   "execution_count": 5,
   "id": "090f02ea",
   "metadata": {},
   "outputs": [
    {
     "data": {
      "text/plain": [
       "12.0"
      ]
     },
     "execution_count": 5,
     "metadata": {},
     "output_type": "execute_result"
    }
   ],
   "source": [
    "# calculate the area of a triangle given its base and height\n",
    "\n",
    "def triangleArea(base, height):\n",
    "    return base * height / 2\n",
    "triangleArea(6, 4)"
   ]
  },
  {
   "cell_type": "markdown",
   "id": "9962ad71",
   "metadata": {},
   "source": [
    "# 2. Strings and String Manipulations:\n",
    "• Write a program to reverse a string.\n",
    "\n",
    "• Create a program to count the number of vowels in a given string."
   ]
  },
  {
   "cell_type": "code",
   "execution_count": 203,
   "id": "5347eb54",
   "metadata": {},
   "outputs": [
    {
     "data": {
      "text/plain": [
       "'dcba'"
      ]
     },
     "execution_count": 203,
     "metadata": {},
     "output_type": "execute_result"
    }
   ],
   "source": [
    "# reverse a string\n",
    "\n",
    "def reverseString(s):\n",
    "    return s[::-1]\n",
    "reverseString(\"abcd\")"
   ]
  },
  {
   "cell_type": "code",
   "execution_count": 10,
   "id": "e42a46e6",
   "metadata": {},
   "outputs": [
    {
     "data": {
      "text/plain": [
       "6"
      ]
     },
     "execution_count": 10,
     "metadata": {},
     "output_type": "execute_result"
    }
   ],
   "source": [
    "# count the number of vowels in a given string\n",
    "\n",
    "def countVowels(s):\n",
    "    s = s.lower()\n",
    "    vowels = ['a', 'e', 'i', 'o', 'u']\n",
    "    count = 0\n",
    "    for chr in s:\n",
    "        if chr in vowels:\n",
    "            count += 1\n",
    "    return count\n",
    "countVowels(\"AAAEEBCIDF\") # Vowels: A, A, A, E, E, I"
   ]
  },
  {
   "cell_type": "markdown",
   "id": "020dabad",
   "metadata": {},
   "source": [
    "# 3. Lists and List Comprehensions:\n",
    "• Write a program to find the largest and smallest numbers from a list.\n",
    "\n",
    "• Using list comprehension, generate a list of squares for numbers between 1 to 10."
   ]
  },
  {
   "cell_type": "code",
   "execution_count": 11,
   "id": "35fbdd49",
   "metadata": {},
   "outputs": [
    {
     "data": {
      "text/plain": [
       "(20, -2)"
      ]
     },
     "execution_count": 11,
     "metadata": {},
     "output_type": "execute_result"
    }
   ],
   "source": [
    "# find the largest and smallest numbers from a list\n",
    "def findLargestSmallest(l):\n",
    "    l = sorted(l)\n",
    "    return l[-1], l[0] # return largest, and smallest\n",
    "findLargestSmallest([2, 5, 1, 6, 9, 20, -2])"
   ]
  },
  {
   "cell_type": "code",
   "execution_count": 12,
   "id": "797734df",
   "metadata": {},
   "outputs": [
    {
     "data": {
      "text/plain": [
       "[1, 4, 9, 16, 25]"
      ]
     },
     "execution_count": 12,
     "metadata": {},
     "output_type": "execute_result"
    }
   ],
   "source": [
    "# generate a list of squares for numbers between 1 to 10.\n",
    "def squaresForNumber(l):\n",
    "    x = [num**2 for num in l]\n",
    "    return x\n",
    "squaresForNumber([1, 2, 3, 4, 5])"
   ]
  },
  {
   "cell_type": "markdown",
   "id": "f5c80a0e",
   "metadata": {},
   "source": [
    "# 4. Dictionaries:\n",
    "• Create a dictionary of five students and their marks in a subject. Write a program to\n",
    "display the student with the highest marks.\n",
    "\n",
    "• Convert the following data into a nested dictionary:\n",
    "\n",
    "o School: ABC High\n",
    "\n",
    "o Class 1: 40 students\n",
    "\n",
    "o Class 2: 35 students\n",
    "\n",
    "o Class 3: 30 students"
   ]
  },
  {
   "cell_type": "code",
   "execution_count": 23,
   "id": "e795e069",
   "metadata": {},
   "outputs": [
    {
     "data": {
      "text/plain": [
       "('Mark', 7)"
      ]
     },
     "execution_count": 23,
     "metadata": {},
     "output_type": "execute_result"
    }
   ],
   "source": [
    "# display the student with the highest marks.\n",
    "my_dict = {\"Kim\" : 3, \"Lee\": 2, \"Alex\": 4, \"Mark\":7, \"Park\": 1}\n",
    "\n",
    "sorted(my_dict.items(), key = lambda x: x[1], reverse = True)[0]"
   ]
  },
  {
   "cell_type": "code",
   "execution_count": 204,
   "id": "e5c740e2",
   "metadata": {},
   "outputs": [
    {
     "data": {
      "text/plain": [
       "{'School': 'ABC High',\n",
       " 'Classes': {'Class 1': '40 students',\n",
       "  'Class 2': '35 students',\n",
       "  'Class 3': '30 students'}}"
      ]
     },
     "execution_count": 204,
     "metadata": {},
     "output_type": "execute_result"
    }
   ],
   "source": [
    "#• Convert the following data into a nested dictionary:\n",
    "#o School: ABC High\n",
    "#o Class 1: 40 students\n",
    "#o Class 2: 35 students\n",
    "#o Class 3: 30 students\n",
    "my_dict = {\"School\": \"ABC High\",\n",
    "          \"Classes\": {\n",
    "              \"Class 1\": \"40 students\",\n",
    "              \"Class 2\" : \"35 students\",\n",
    "              \"Class 3\" : \"30 students\"\n",
    "          }}\n",
    "my_dict"
   ]
  },
  {
   "cell_type": "markdown",
   "id": "fdd3ffe1",
   "metadata": {},
   "source": [
    "# 5. Functions:\n",
    "• Create a function that accepts a number and returns its factorial.\n",
    "\n",
    "• Write a function to check if a number is prime or not."
   ]
  },
  {
   "cell_type": "code",
   "execution_count": 33,
   "id": "f9909460",
   "metadata": {},
   "outputs": [
    {
     "data": {
      "text/plain": [
       "24"
      ]
     },
     "execution_count": 33,
     "metadata": {},
     "output_type": "execute_result"
    }
   ],
   "source": [
    "# return factorial\n",
    "def fact(num):\n",
    "    ans = 1\n",
    "    while num > 0:\n",
    "        ans *= num\n",
    "        num -= 1\n",
    "    return ans\n",
    "fact(4)"
   ]
  },
  {
   "cell_type": "code",
   "execution_count": 45,
   "id": "a92aacb6",
   "metadata": {},
   "outputs": [
    {
     "data": {
      "text/plain": [
       "True"
      ]
     },
     "execution_count": 45,
     "metadata": {},
     "output_type": "execute_result"
    }
   ],
   "source": [
    "# check if a number is prime or not\n",
    "def isPrime(num):\n",
    "    if num <= 1:\n",
    "        return False\n",
    "    for i in range(2, int(num ** 0.5) + 1):\n",
    "        if(num % i) == 0:\n",
    "            return False\n",
    "    else:\n",
    "        return True\n",
    "isPrime(101)"
   ]
  },
  {
   "cell_type": "markdown",
   "id": "0eb45085",
   "metadata": {},
   "source": [
    "# 6. File Handling:\n",
    "• Write a program to read a text file and count the number of words in it.\n",
    "\n",
    "• Create a program to copy the contents of one file into another.\n"
   ]
  },
  {
   "cell_type": "code",
   "execution_count": 61,
   "id": "f572336b",
   "metadata": {},
   "outputs": [
    {
     "data": {
      "text/plain": [
       "15"
      ]
     },
     "execution_count": 61,
     "metadata": {},
     "output_type": "execute_result"
    }
   ],
   "source": [
    "# read a text file and count the number of words\n",
    "def countWords(filename):\n",
    "    try:\n",
    "        with open(filename, 'r') as file:\n",
    "            text = file.read()\n",
    "            words = text.split()\n",
    "            number_words = len(words)\n",
    "            return number_words\n",
    "    except FileNotFoundError:\n",
    "        print(\"We can not find file\")\n",
    "        return 0\n",
    "countWords(\"file.txt\")"
   ]
  },
  {
   "cell_type": "code",
   "execution_count": 133,
   "id": "993d6fa1",
   "metadata": {},
   "outputs": [
    {
     "name": "stdout",
     "output_type": "stream",
     "text": [
      "Copied successfully.\n"
     ]
    }
   ],
   "source": [
    "# copy the contents of one file into another.\n",
    "def copyFile(read_file, copy_file):\n",
    "    try:\n",
    "        with open(read_file, 'r') as rfile:\n",
    "            text = rfile.read()\n",
    "            with open(copy_file, 'w') as cfile:\n",
    "                cfile.write(text)\n",
    "        print(\"Copied successfully.\")\n",
    "    except FileNotFoundError:\n",
    "        print(\"We can not find file\")\n",
    "copyFile(\"file.txt\", \"copy.txt\")\n"
   ]
  },
  {
   "cell_type": "markdown",
   "id": "9bd648b9",
   "metadata": {},
   "source": [
    "# 7. Exception Handling:\n",
    "• Write a program that takes integer input from the user and displays a message if the input\n",
    "is not an integer.\n",
    "\n",
    "• Create a function to handle division operations that can handle a ZeroDivisionError.\n"
   ]
  },
  {
   "cell_type": "code",
   "execution_count": 205,
   "id": "f38e1193",
   "metadata": {},
   "outputs": [
    {
     "name": "stdout",
     "output_type": "stream",
     "text": [
      "3\n",
      "Correct your input is Integer\n"
     ]
    }
   ],
   "source": [
    "# takes integer input from the user and displays a message if the input is not an integer.\n",
    "def checkIntegerInput():\n",
    "    try:\n",
    "        num = int(input())\n",
    "        print(\"Correct your input is Integer\")\n",
    "    except ValueError:\n",
    "        print(\"Your input is not Integer\")\n",
    "checkIntegerInput()"
   ]
  },
  {
   "cell_type": "code",
   "execution_count": 84,
   "id": "de9ca35a",
   "metadata": {},
   "outputs": [
    {
     "data": {
      "text/plain": [
       "2.0"
      ]
     },
     "execution_count": 84,
     "metadata": {},
     "output_type": "execute_result"
    }
   ],
   "source": [
    "# Create a function to handle division operations that can handle a ZeroDivisionError.\n",
    "def handleDivision(a, b):\n",
    "    try:\n",
    "        result = a / b\n",
    "        return result\n",
    "    except ZeroDivisionError:\n",
    "        print(\"You cannot divide number by 0\")\n",
    "        return None\n",
    "handleDivision(4, 2)"
   ]
  },
  {
   "cell_type": "code",
   "execution_count": 82,
   "id": "0dd9ce29",
   "metadata": {},
   "outputs": [
    {
     "name": "stdout",
     "output_type": "stream",
     "text": [
      "You cannot divide number by 0\n"
     ]
    }
   ],
   "source": [
    "handleDivision(4, 0)"
   ]
  },
  {
   "cell_type": "markdown",
   "id": "53c78bb0",
   "metadata": {},
   "source": [
    "# 8. Basics of Classes and Objects:\n",
    "• Create a class Rectangle with attributes length and breadth. It should have methods to\n",
    "calculate area and perimeter. Instantiate the class and demonstrate its usage.\n",
    "\n",
    "• Design a BankAccount class with attributes account_number and balance. Implement\n",
    "methods for deposit, withdrawal, and displaying the balance."
   ]
  },
  {
   "cell_type": "code",
   "execution_count": 90,
   "id": "f4ef4bf2",
   "metadata": {},
   "outputs": [
    {
     "data": {
      "text/plain": [
       "12"
      ]
     },
     "execution_count": 90,
     "metadata": {},
     "output_type": "execute_result"
    }
   ],
   "source": [
    "# Create a class Rectangle with attributes length and breadth. \n",
    "#It should have methods to calculate area and perimeter. \n",
    "#Instantiate the class and demonstrate its usage.\n",
    "\n",
    "class Rectangle:\n",
    "    def __init__(self, length, breadth):\n",
    "        self.length = length\n",
    "        self.breadth = breadth\n",
    "    def area(self):\n",
    "        return self.length * self.breadth\n",
    "    def perimeter(self):\n",
    "        return 2 * self.length + 2 * self.breadth\n",
    "my_rec = Rectangle(3, 4)\n",
    "my_rec.area()"
   ]
  },
  {
   "cell_type": "code",
   "execution_count": 103,
   "id": "4b1f9f53",
   "metadata": {},
   "outputs": [
    {
     "data": {
      "text/plain": [
       "14"
      ]
     },
     "execution_count": 103,
     "metadata": {},
     "output_type": "execute_result"
    }
   ],
   "source": [
    "my_rec.perimeter()"
   ]
  },
  {
   "cell_type": "code",
   "execution_count": 119,
   "id": "adae8bfb",
   "metadata": {},
   "outputs": [
    {
     "name": "stdout",
     "output_type": "stream",
     "text": [
      "Your current balance is 4000\n"
     ]
    }
   ],
   "source": [
    "#Design a BankAccount class with attributes account_number and balance. \n",
    "#Implement methods for deposit, withdrawal, and displaying the balance.\n",
    "\n",
    "class bankAccount():\n",
    "    def __init__(self, account_number, balance):\n",
    "        self.account_number = account_number\n",
    "        self.balance = balance\n",
    "    def deposit(self, num):\n",
    "        self.balance += num\n",
    "        print(\"Your money is successfully deposited\")\n",
    "    def withDrawl(self, num):\n",
    "        if self.balance - num < 0:\n",
    "            print(\"You do not have enough money in your account\")\n",
    "        else:\n",
    "            self.balance -= num\n",
    "            print(\"You successfully withdrawl your money\")\n",
    "    def view(self):\n",
    "        print(\"Your current balance is \" + str(self.balance))\n",
    "my_bank = bankAccount(1234, 4000)\n",
    "my_bank.view()"
   ]
  },
  {
   "cell_type": "code",
   "execution_count": 120,
   "id": "90606282",
   "metadata": {},
   "outputs": [
    {
     "name": "stdout",
     "output_type": "stream",
     "text": [
      "Your money is successfully deposited\n",
      "Your current balance is 5000\n"
     ]
    }
   ],
   "source": [
    "my_bank.deposit(1000)\n",
    "my_bank.view()\n"
   ]
  },
  {
   "cell_type": "code",
   "execution_count": 121,
   "id": "876deed8",
   "metadata": {},
   "outputs": [
    {
     "name": "stdout",
     "output_type": "stream",
     "text": [
      "You successfully withdrawl your money\n",
      "Your current balance is 3000\n"
     ]
    }
   ],
   "source": [
    "my_bank.withDrawl(2000)\n",
    "my_bank.view()"
   ]
  },
  {
   "cell_type": "code",
   "execution_count": 122,
   "id": "9914b393",
   "metadata": {},
   "outputs": [
    {
     "name": "stdout",
     "output_type": "stream",
     "text": [
      "You do not have enough money in your account\n",
      "Your current balance is 3000\n"
     ]
    }
   ],
   "source": [
    "my_bank.withDrawl(4000)\n",
    "my_bank.view()"
   ]
  },
  {
   "cell_type": "markdown",
   "id": "0e6853c7",
   "metadata": {},
   "source": [
    "# 9. Modules and Packages:\n",
    "• Create a simple module named calculator that has functions for addition, subtraction,\n",
    "multiplication, and division. Import this module in another program and demonstrate its\n",
    "usage.\n",
    "\n",
    "• Use the datetime module to write a program that displays the current date and time.\n",
    "Also, print the calendar for the current month."
   ]
  },
  {
   "cell_type": "code",
   "execution_count": 6,
   "id": "21f3de81",
   "metadata": {},
   "outputs": [],
   "source": [
    "# Create a simple module named calculator that has functions for addition, subtraction, multiplication, and division. \n",
    "# Import this module in another program and demonstrate its usage.\n",
    "from ipynb.fs.full.calculator import addition \n",
    "addition(4, 5)                 "
   ]
  },
  {
   "cell_type": "code",
   "execution_count": 10,
   "id": "e70bbe5b",
   "metadata": {},
   "outputs": [
    {
     "data": {
      "text/plain": [
       "-1"
      ]
     },
     "execution_count": 10,
     "metadata": {},
     "output_type": "execute_result"
    }
   ],
   "source": [
    "from ipynb.fs.full.calculator import substraction\n",
    "substraction(4, 5)"
   ]
  },
  {
   "cell_type": "code",
   "execution_count": 15,
   "id": "a0e4c923",
   "metadata": {},
   "outputs": [
    {
     "data": {
      "text/plain": [
       "20"
      ]
     },
     "execution_count": 15,
     "metadata": {},
     "output_type": "execute_result"
    }
   ],
   "source": [
    "from ipynb.fs.full.calculator import multiplication\n",
    "multiplication(4, 5)"
   ]
  },
  {
   "cell_type": "code",
   "execution_count": 11,
   "id": "9c6805cb",
   "metadata": {},
   "outputs": [
    {
     "data": {
      "text/plain": [
       "0.8"
      ]
     },
     "execution_count": 11,
     "metadata": {},
     "output_type": "execute_result"
    }
   ],
   "source": [
    "from ipynb.fs.full.calculator import division\n",
    "division(4, 5)"
   ]
  },
  {
   "cell_type": "code",
   "execution_count": 136,
   "id": "2149d5ae",
   "metadata": {},
   "outputs": [
    {
     "name": "stdout",
     "output_type": "stream",
     "text": [
      "Current date is  2023-08-31\n",
      "Current Time = 15:41:46\n"
     ]
    }
   ],
   "source": [
    "# Use the datetime module to write a program that displays the current date and time. \n",
    "\n",
    "from datetime import date\n",
    "today = date.today()\n",
    "print(\"Current date is \", today)\n",
    "\n",
    "from datetime import datetime\n",
    "\n",
    "now = datetime.now()\n",
    "\n",
    "current_time = now.strftime(\"%H:%M:%S\")\n",
    "print(\"Current Time =\", current_time)\n",
    "\n"
   ]
  },
  {
   "cell_type": "code",
   "execution_count": 141,
   "id": "472e7df0",
   "metadata": {},
   "outputs": [
    {
     "name": "stdout",
     "output_type": "stream",
     "text": [
      "    August 2023\n",
      "Mo Tu We Th Fr Sa Su\n",
      "    1  2  3  4  5  6\n",
      " 7  8  9 10 11 12 13\n",
      "14 15 16 17 18 19 20\n",
      "21 22 23 24 25 26 27\n",
      "28 29 30 31\n",
      "\n"
     ]
    }
   ],
   "source": [
    "# print the calendar for the current month.\n",
    "import calendar\n",
    "print(calendar.month(today.year, today.month))"
   ]
  },
  {
   "cell_type": "markdown",
   "id": "c4b2c68b",
   "metadata": {},
   "source": [
    "# 10. Final Task:\n",
    "• Create a mini project, like a basic contact management system where users can add, view,\n",
    "edit, and delete contacts. Each contact can have a name, phone number, and email\n",
    "address.\n"
   ]
  },
  {
   "cell_type": "code",
   "execution_count": 195,
   "id": "65f5c0dd",
   "metadata": {},
   "outputs": [
    {
     "name": "stdout",
     "output_type": "stream",
     "text": [
      "Type the name you want to add\n",
      "kim\n",
      "Type the phone number you want to add\n",
      "123456789\n",
      "Type the email you want to add\n",
      "keni@gmail.com\n",
      "New contact is successfully added\n"
     ]
    }
   ],
   "source": [
    "# basic contact management system where users can add, view, edit, and delete contacts\n",
    "class Contact:\n",
    "    def __init__(self):\n",
    "        self.dict = {}\n",
    "    def add(self):\n",
    "        print(\"Type the name you want to add\")\n",
    "        name = input()\n",
    "        if name not in self.dict:\n",
    "            print(\"Type the phone number you want to add\")\n",
    "            phoneNumber = input()\n",
    "            print(\"Type the email you want to add\")\n",
    "            email = input()\n",
    "            self.dict[name] = [phoneNumber, email]\n",
    "            print(\"New contact is successfully added\")\n",
    "        else:\n",
    "            print(\"Contact is already existed. Type another contact\")\n",
    "    def view(self):\n",
    "        for key in self.dict:\n",
    "            print(\"Name: \" + key)\n",
    "            for value in self.dict[key]:\n",
    "                if value == self.dict[key][0]:\n",
    "                    print(\"Phone Number: \" + value)\n",
    "                else:\n",
    "                    print(\"Email: \" + value)\n",
    "            print(\"\\n\")\n",
    "    def edit(self):\n",
    "        print(\"Type the name that you want to edit\")\n",
    "        name = input()\n",
    "        if name not in self.dict:\n",
    "            print(\"Name is not in contact\")\n",
    "        else:\n",
    "            print(\"Type the information you want to edit.\")\n",
    "            print(\"Type 'Number' or 'Email': \")\n",
    "            input2 = input()\n",
    "            input2 = input2.lower()\n",
    "            if input2 == \"number\":\n",
    "                print(\"Type the new phone number: \")\n",
    "                input3 = input()\n",
    "                self.dict[name][0] = input3\n",
    "                print(\"Number is successfully changed\")\n",
    "            elif input2 == \"email\":\n",
    "                print(\"Type the new email: \")\n",
    "                input3 = input()\n",
    "                self.dict[name][1] = input3\n",
    "                print(\"Email is successfully changed\")\n",
    "            else:\n",
    "                print(\"Type 'number' or 'email'\")\n",
    "    def delete(self):\n",
    "        print(\"Type the name you want to delete\")\n",
    "        name = input()\n",
    "        if name in self.dict:\n",
    "            self.dict.pop(name)\n",
    "            print(\"Name is successfully deleted\")\n",
    "        else:\n",
    "            print(\"Name is not in contact.\")\n",
    "        \n",
    "my_contact = Contact()\n",
    "my_contact.add()"
   ]
  },
  {
   "cell_type": "code",
   "execution_count": 197,
   "id": "5ef63d36",
   "metadata": {},
   "outputs": [
    {
     "name": "stdout",
     "output_type": "stream",
     "text": [
      "Type the name you want to add\n",
      "Dasom Lee\n",
      "Type the phone number you want to add\n",
      "sdsd\n",
      "Type the email you want to add\n",
      "21321\n",
      "New contact is successfully added\n"
     ]
    }
   ],
   "source": [
    "my_contact.add()"
   ]
  },
  {
   "cell_type": "code",
   "execution_count": 188,
   "id": "41b44afb",
   "metadata": {},
   "outputs": [
    {
     "name": "stdout",
     "output_type": "stream",
     "text": [
      "Type the name you want to add\n",
      "Yoo\n",
      "Type the phone number you want to add\n",
      "123456789\n",
      "Type the email you want to add\n",
      "js@gmail.com\n",
      "New contact is successfully added\n"
     ]
    }
   ],
   "source": [
    "my_contact.add()"
   ]
  },
  {
   "cell_type": "code",
   "execution_count": 196,
   "id": "af21b551",
   "metadata": {},
   "outputs": [
    {
     "name": "stdout",
     "output_type": "stream",
     "text": [
      "Name: kim\n",
      "Phone Number: 123456789\n",
      "Email: keni@gmail.com\n",
      "\n",
      "\n"
     ]
    }
   ],
   "source": [
    "my_contact.view()"
   ]
  },
  {
   "cell_type": "code",
   "execution_count": 198,
   "id": "9f5d4c1b",
   "metadata": {},
   "outputs": [
    {
     "name": "stdout",
     "output_type": "stream",
     "text": [
      "Type the name that you want to edit\n",
      "Dasom Lee\n",
      "Type the information you want to edit.\n",
      "Type 'Number' or 'Email': \n",
      "Number\n",
      "Type the new phone number: \n",
      "293293919\n",
      "Number is successfully changed\n"
     ]
    }
   ],
   "source": [
    "my_contact.edit()"
   ]
  },
  {
   "cell_type": "code",
   "execution_count": 199,
   "id": "92decf7c",
   "metadata": {},
   "outputs": [
    {
     "name": "stdout",
     "output_type": "stream",
     "text": [
      "Name: kim\n",
      "Phone Number: 123456789\n",
      "Email: keni@gmail.com\n",
      "\n",
      "\n",
      "Name: Dasom Lee\n",
      "Phone Number: 293293919\n",
      "Email: 21321\n",
      "\n",
      "\n"
     ]
    }
   ],
   "source": [
    "my_contact.view()"
   ]
  },
  {
   "cell_type": "code",
   "execution_count": 192,
   "id": "d0175377",
   "metadata": {},
   "outputs": [
    {
     "name": "stdout",
     "output_type": "stream",
     "text": [
      "Type the name you want to delete\n",
      "Yoo\n",
      "That name is successfully deleted\n"
     ]
    }
   ],
   "source": [
    "my_contact.delete()"
   ]
  },
  {
   "cell_type": "code",
   "execution_count": 194,
   "id": "61633f17",
   "metadata": {},
   "outputs": [
    {
     "name": "stdout",
     "output_type": "stream",
     "text": [
      "Name: Dasom Lee\n",
      "Number: 4084069087\n",
      "Email: dasom@gmail.com\n",
      "\n",
      "\n",
      "Name: Kim\n",
      "Number: 5105706664\n",
      "Email: kenkim7184@gmail.com\n",
      "\n",
      "\n"
     ]
    }
   ],
   "source": [
    "my_contact.view()"
   ]
  }
 ],
 "metadata": {
  "kernelspec": {
   "display_name": "Python 3 (ipykernel)",
   "language": "python",
   "name": "python3"
  },
  "language_info": {
   "codemirror_mode": {
    "name": "ipython",
    "version": 3
   },
   "file_extension": ".py",
   "mimetype": "text/x-python",
   "name": "python",
   "nbconvert_exporter": "python",
   "pygments_lexer": "ipython3",
   "version": "3.9.7"
  }
 },
 "nbformat": 4,
 "nbformat_minor": 5
}
